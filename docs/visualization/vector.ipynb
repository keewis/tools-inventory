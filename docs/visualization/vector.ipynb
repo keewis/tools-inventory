{
 "cells": [
  {
   "cell_type": "markdown",
   "id": "0",
   "metadata": {},
   "source": [
    "# visualization of HEALPix maps as polygons"
   ]
  },
  {
   "cell_type": "markdown",
   "id": "1",
   "metadata": {},
   "source": [
    "By representing every cell as a polygon, we can use vector visualization tools to plot HEALPix maps.\n",
    "\n",
    "Existing software:\n",
    "- xdggs' `explore` (using lonboard): multi-dimensional data, single variable, WebMercator projection, spherical only"
   ]
  },
  {
   "cell_type": "markdown",
   "id": "2",
   "metadata": {},
   "source": [
    "## plotting using `xdggs` and `lonboard`"
   ]
  },
  {
   "cell_type": "code",
   "execution_count": null,
   "id": "3",
   "metadata": {},
   "outputs": [],
   "source": [
    "import xdggs\n",
    "\n",
    "ds = xdggs.tutorial.open_dataset(\"air_temperature\", \"healpix\").dggs.decode()\n",
    "ds[\"air\"].dggs.explore(alpha=0.8)"
   ]
  }
 ],
 "metadata": {
  "language_info": {
   "codemirror_mode": {
    "name": "ipython",
    "version": 3
   },
   "file_extension": ".py",
   "mimetype": "text/x-python",
   "name": "python",
   "nbconvert_exporter": "python",
   "pygments_lexer": "ipython3"
  }
 },
 "nbformat": 4,
 "nbformat_minor": 5
}
