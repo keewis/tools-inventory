{
 "cells": [
  {
   "cell_type": "markdown",
   "id": "0",
   "metadata": {},
   "source": [
    "# As raster imagery"
   ]
  },
  {
   "cell_type": "markdown",
   "id": "1",
   "metadata": {},
   "source": [
    "A lot of packages rasterize HEALPix maps using a destination pull interpolation (most common: nearest neighbour).\n",
    "\n",
    "Existing software:\n",
    "- `healpy`: static image, single variable, a few projections (gnomonic, cartesian, mollweide), spherical only\n",
    "- `easy.gems`: static image, single variable, projections via `cartopy`, spherical only"
   ]
  },
  {
   "cell_type": "code",
   "execution_count": null,
   "id": "2",
   "metadata": {},
   "outputs": [],
   "source": [
    "import xdggs\n",
    "\n",
    "ds = xdggs.tutorial.open_dataset(\"air_temperature\", \"healpix\").compute().dggs.decode()\n",
    "ds"
   ]
  },
  {
   "cell_type": "markdown",
   "id": "3",
   "metadata": {},
   "source": [
    "## plotting with `easy.gems`\n",
    "\n",
    "[Code](https://github.com/mpimet/easygems) | [Documentation](https://easy.gems.dkrz.de/Processing/healpix/healpix_cartopy.html) | [Cookbook](https://projectpythia.org/healpix-cookbook/notebooks/easygems/)\n",
    "\n",
    "The `easygems` package comes with the `healpix_show` function that will first interpolate the data onto a regular grid and then use the standard regular grid visualization functionality of `matplotlib` / `cartopy`:"
   ]
  },
  {
   "cell_type": "code",
   "execution_count": null,
   "id": "4",
   "metadata": {},
   "outputs": [],
   "source": [
    "import cartopy.crs as ccrs\n",
    "import cartopy.feature as cf\n",
    "import easygems.healpix as egh\n",
    "import matplotlib.pyplot as plt"
   ]
  },
  {
   "cell_type": "code",
   "execution_count": null,
   "id": "5",
   "metadata": {},
   "outputs": [],
   "source": [
    "# special format needed for the cell ids coordinate / the cells dimension\n",
    "var = (\n",
    "    ds.assign_coords(\n",
    "        crs=lambda ds: (\n",
    "            (),\n",
    "            0,\n",
    "            {\n",
    "                \"grid_mapping_name\": \"healpix\",\n",
    "                \"healpix_nside\": 2**ds.dggs.grid_info.level,\n",
    "                \"healpix_nest\": \"nest\",\n",
    "            },\n",
    "        )\n",
    "    )\n",
    "    .drop_indexes(\"cell_ids\")\n",
    "    .rename_dims({\"cells\": \"cell\"})\n",
    "    .rename_vars({\"cell_ids\": \"cell\"})\n",
    "    .isel(time=0)\n",
    "    .set_xindex(\"cell\")\n",
    "    .get(\"air\")\n",
    ")\n",
    "\n",
    "projection = ccrs.Robinson()\n",
    "fig, ax = plt.subplots(\n",
    "    figsize=(8, 4), subplot_kw={\"projection\": projection}, constrained_layout=True\n",
    ")\n",
    "ax.set_extent([200, 350, 14, 80], crs=ccrs.PlateCarree())\n",
    "egh.healpix_show(var, ax=ax)\n",
    "ax.add_feature(cf.COASTLINE, linewidth=0.8)\n",
    "ax.add_feature(cf.BORDERS, linewidth=0.4)"
   ]
  }
 ],
 "metadata": {
  "language_info": {
   "codemirror_mode": {
    "name": "ipython",
    "version": 3
   },
   "file_extension": ".py",
   "mimetype": "text/x-python",
   "name": "python",
   "nbconvert_exporter": "python",
   "pygments_lexer": "ipython3"
  }
 },
 "nbformat": 4,
 "nbformat_minor": 5
}
